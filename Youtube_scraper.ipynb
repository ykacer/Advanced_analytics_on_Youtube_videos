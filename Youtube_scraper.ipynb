{
  "cells": [
    {
      "cell_type": "markdown",
      "metadata": {
        "id": "7Jsp88HSlCch"
      },
      "source": [
        "## **Installation**"
      ]
    },
    {
      "cell_type": "markdown",
      "metadata": {
        "id": "LWkEj4FyuGS5"
      },
      "source": [
        "Install `selenium` to \n",
        "\n",
        "*  scrape Youtube channel videos page\n",
        "\n",
        "*  scrape comments/likes of each 1-month-ago Youtube video\n",
        "\n",
        "Install `youtube-dl` to \n",
        "\n",
        "*   download each Youtube 1-month-ago video"
      ]
    },
    {
      "cell_type": "code",
      "execution_count": null,
      "metadata": {
        "id": "uLTYg26FhFR1"
      },
      "outputs": [],
      "source": [
        "!pip install selenium\n",
        "!apt-get update # to update ubuntu to correctly run apt install\n",
        "!apt install chromium-chromedriver\n",
        "!cp /usr/lib/chromium-browser/chromedriver /usr/bin\n",
        "!sudo curl -L https://yt-dl.org/downloads/latest/youtube-dl -o /usr/local/bin/youtube-dl\n",
        "!sudo chmod a+rx /usr/local/bin/youtube-dl"
      ]
    },
    {
      "cell_type": "markdown",
      "metadata": {
        "id": "gBthRyTqlPCz"
      },
      "source": [
        "# **import**"
      ]
    },
    {
      "cell_type": "code",
      "execution_count": 2,
      "metadata": {
        "id": "tsY8MdtfjV6K"
      },
      "outputs": [],
      "source": [
        "import sys\n",
        "sys.path.insert(0,'/usr/lib/chromium-browser/chromedriver')\n",
        "from selenium import webdriver\n",
        "chrome_options = webdriver.ChromeOptions()\n",
        "chrome_options.add_argument('--headless')\n",
        "chrome_options.add_argument('--no-sandbox')\n",
        "chrome_options.add_argument('--disable-dev-shm-usage')"
      ]
    },
    {
      "cell_type": "code",
      "execution_count": 3,
      "metadata": {
        "id": "q0B4Qx99iMlU"
      },
      "outputs": [],
      "source": [
        "from selenium import webdriver\n",
        "from selenium.webdriver.common.keys import Keys\n",
        "from selenium.common import exceptions\n",
        "\n",
        "from bs4 import BeautifulSoup\n",
        "import os\n",
        "import csv\n",
        "import sys\n",
        "from time import sleep\n",
        "import pandas as pd\n",
        "import warnings\n",
        "from tqdm import tqdm\n",
        "from concurrent import futures\n",
        "from concurrent.futures import ThreadPoolExecutor, as_completed\n"
      ]
    },
    {
      "cell_type": "markdown",
      "metadata": {
        "id": "V3st1TI2vNil"
      },
      "source": [
        "Define where to download videos"
      ]
    },
    {
      "cell_type": "code",
      "execution_count": 4,
      "metadata": {
        "id": "2kuRckATvSIx"
      },
      "outputs": [],
      "source": [
        "path_to_videos = '/content/drive/MyDrive/Brut/'\n",
        "os.makedirs(f'{path_to_videos}/videos', exist_ok=True)"
      ]
    },
    {
      "cell_type": "markdown",
      "metadata": {
        "id": "zSHHpyYOlVXZ"
      },
      "source": [
        "# **Scrape videos from Youtube channel**"
      ]
    },
    {
      "cell_type": "markdown",
      "metadata": {
        "id": "N7B6oK8msvNE"
      },
      "source": [
        "Define some util functions"
      ]
    },
    {
      "cell_type": "code",
      "execution_count": 5,
      "metadata": {
        "id": "rthB9wKszuoM"
      },
      "outputs": [],
      "source": [
        "def clean_views(views):\n",
        "  '''function that transforms \"1.4K views\", \"1.8M views\" into \"1400.0\", \"1800000.0\" \n",
        "    Args:\n",
        "        views (str): raw text videos views as scraped from Youtube channel videos page\n",
        "    Returns:\n",
        "        (float) videos views as a number\n",
        "  '''\n",
        "  views_pp = views.replace(' views', '')\n",
        "  if 'K' in views_pp:\n",
        "    views_pp = views_pp.replace('K', '')\n",
        "    views_pp = float(views_pp)*1000\n",
        "  elif 'M' in views_pp:\n",
        "    views_pp = views_pp.replace('M', '')\n",
        "    views_pp = float(views_pp)*1000000\n",
        "  return views_pp\n",
        "\n",
        "def get_video_hash(video_url):\n",
        "  \"\"\"function that isolates {hash} from url 'https://www.youtube.com/watch?v={hash}' or\n",
        "     'https://www.youtube.com/shorts/{hash}'\n",
        "\n",
        "     Args:\n",
        "         video_url (str): url of the Youtube video\n",
        "     Returns\n",
        "         (str): hash of the Youtube video\n",
        "  \"\"\"\n",
        "  video_hash = video_url.split('https://www.youtube.com/watch?v=')\n",
        "  if len(video_hash)>1:\n",
        "    video_hash = video_hash[1]\n",
        "  else:\n",
        "    video_hash = video_url.split('https://www.youtube.com/shorts/')[1]\n",
        "  return video_hash\n",
        "\n",
        "def get_thumbnail(video_url):\n",
        "  \"\"\"function that provides thumbnail url from video url\n",
        "\n",
        "     Args:\n",
        "         video_url (str): url of the Youtube video\n",
        "     Returns:\n",
        "         (str): url to the high-quality thumbnail of the video\n",
        "  \"\"\"\n",
        "  video_hash = get_video_hash(video_url)\n",
        "  return f'https://i.ytimg.com/vi/{video_hash}/hqdefault.jpg'\n",
        "\n",
        "def scrape_videos_channel(channel):\n",
        "  \"\"\"function that scrapes videos url from youtube channel name.\n",
        "\n",
        "    Args:\n",
        "        channel (str): Youtube channel name\n",
        "    Returns:\n",
        "        (pd.DataFrame): a dataframe with following attributes for each video:\n",
        "                        *  title : title of the video\n",
        "                        *  link : url to the video\n",
        "                        *  views : number of views (float)\n",
        "                        *  published : how many days/month/year ago the video was published\n",
        "                        *  thumbnail : url to the video thumbnail\n",
        "  \"\"\"\n",
        "  driver = webdriver.Chrome('chromedriver',chrome_options=chrome_options)\n",
        "  driver.get(f'https://www.youtube.com/{channel}/UCSKdvgqdnj72_SLggp7BDTg/videos')\n",
        "\n",
        "  #find the last video in the page\n",
        "  lastElement = driver.find_elements_by_id(\"video-title\")[-1]\n",
        "  #scroll to the bottom of the page and force load more videos\n",
        "  lastElement.send_keys(Keys.NULL)\n",
        "  #wait while youtube loads more data\n",
        "  sleep(1)\n",
        "\n",
        "  #find the last video again, but this time assign that element to a new variable.\n",
        "  # This will allow us to compare the last element variables, and loop until they \n",
        "  # are the same (meaning no more videos to load)\n",
        "  lastElementNow = driver.find_elements_by_id(\"video-title\")[-1]\n",
        "  #loop until lastElement = lastElementNow, signaling the end of the videos content\n",
        "  while lastElement != lastElementNow :\n",
        "      lastElement = driver.find_elements_by_id(\"video-title\")[-1]\n",
        "      lastElement.send_keys(Keys.NULL)\n",
        "      sleep(1)\n",
        "      lastElementNow = driver.find_elements_by_id(\"video-title\")[-1]\n",
        "  df = {}\n",
        "  for video_title, video_metadata in zip(driver.find_elements_by_id(\"video-title\"), \n",
        "                                        driver.find_elements_by_id(\"metadata-line\")):\n",
        "    df.setdefault('title', []).append(video_title.text)\n",
        "    df.setdefault('link', []).append(video_title.get_attribute('href'))\n",
        "    df.setdefault('views', []).append(video_metadata.text.split(\"\\n\")[0])\n",
        "    df.setdefault('published', []).append(video_metadata.text.split(\"\\n\")[1])\n",
        "  df = pd.DataFrame(df)\n",
        "  df['views'] = df['views'].apply(clean_views)\n",
        "  df['thumbnail'] = df['link'].apply(get_thumbnail)\n",
        "  return df"
      ]
    },
    {
      "cell_type": "markdown",
      "metadata": {
        "id": "P3g_pQfosXxO"
      },
      "source": [
        "Launch Brut channel videos page scraping and save the videos dataframe"
      ]
    },
    {
      "cell_type": "code",
      "execution_count": null,
      "metadata": {
        "id": "inNXyMMMFODy"
      },
      "outputs": [],
      "source": [
        "df_videos = scrape_videos_channel('UCSKdvgqdnj72_SLggp7BDTg')\n",
        "df_videos.to_csv(f'{path_to_videos}/videos.csv', index=False)"
      ]
    },
    {
      "cell_type": "code",
      "source": [
        "df_videos.head()"
      ],
      "metadata": {
        "colab": {
          "base_uri": "https://localhost:8080/",
          "height": 337
        },
        "id": "Bh-ZljI9_4ra",
        "outputId": "5e32f863-ffda-4b4d-908e-b5c3d90b610d"
      },
      "execution_count": 6,
      "outputs": [
        {
          "output_type": "execute_result",
          "data": {
            "text/plain": [
              "                                               title  \\\n",
              "0  Le mystérieux naufrage du Titanic a-t-il enfin...   \n",
              "1  L'histoire de Joëlle Aubron, bourgeoise devenu...   \n",
              "2  Dépression : pendant un mois Louma filme son q...   \n",
              "3  Zelensky s’exprime sur les déclarations d’Emma...   \n",
              "4  Un an après \"Je ne suis pas une salope, je sui...   \n",
              "\n",
              "                                          link    views    published  \\\n",
              "0   https://www.youtube.com/shorts/qdb9sLJq9X4   2600.0  3 hours ago   \n",
              "1  https://www.youtube.com/watch?v=K1oUbHbMjWw  21000.0  9 hours ago   \n",
              "2  https://www.youtube.com/watch?v=F7hhT_nvDpo  53000.0    1 day ago   \n",
              "3   https://www.youtube.com/shorts/qMTEMNIUC68  35000.0   2 days ago   \n",
              "4  https://www.youtube.com/watch?v=T5-b95ugQT0  26000.0   2 days ago   \n",
              "\n",
              "                                          thumbnail  \n",
              "0  https://i.ytimg.com/vi/qdb9sLJq9X4/hqdefault.jpg  \n",
              "1  https://i.ytimg.com/vi/K1oUbHbMjWw/hqdefault.jpg  \n",
              "2  https://i.ytimg.com/vi/F7hhT_nvDpo/hqdefault.jpg  \n",
              "3  https://i.ytimg.com/vi/qMTEMNIUC68/hqdefault.jpg  \n",
              "4  https://i.ytimg.com/vi/T5-b95ugQT0/hqdefault.jpg  "
            ],
            "text/html": [
              "\n",
              "  <div id=\"df-236ec0c6-f573-4d5b-a0db-889d494b53ff\">\n",
              "    <div class=\"colab-df-container\">\n",
              "      <div>\n",
              "<style scoped>\n",
              "    .dataframe tbody tr th:only-of-type {\n",
              "        vertical-align: middle;\n",
              "    }\n",
              "\n",
              "    .dataframe tbody tr th {\n",
              "        vertical-align: top;\n",
              "    }\n",
              "\n",
              "    .dataframe thead th {\n",
              "        text-align: right;\n",
              "    }\n",
              "</style>\n",
              "<table border=\"1\" class=\"dataframe\">\n",
              "  <thead>\n",
              "    <tr style=\"text-align: right;\">\n",
              "      <th></th>\n",
              "      <th>title</th>\n",
              "      <th>link</th>\n",
              "      <th>views</th>\n",
              "      <th>published</th>\n",
              "      <th>thumbnail</th>\n",
              "    </tr>\n",
              "  </thead>\n",
              "  <tbody>\n",
              "    <tr>\n",
              "      <th>0</th>\n",
              "      <td>Le mystérieux naufrage du Titanic a-t-il enfin...</td>\n",
              "      <td>https://www.youtube.com/shorts/qdb9sLJq9X4</td>\n",
              "      <td>2600.0</td>\n",
              "      <td>3 hours ago</td>\n",
              "      <td>https://i.ytimg.com/vi/qdb9sLJq9X4/hqdefault.jpg</td>\n",
              "    </tr>\n",
              "    <tr>\n",
              "      <th>1</th>\n",
              "      <td>L'histoire de Joëlle Aubron, bourgeoise devenu...</td>\n",
              "      <td>https://www.youtube.com/watch?v=K1oUbHbMjWw</td>\n",
              "      <td>21000.0</td>\n",
              "      <td>9 hours ago</td>\n",
              "      <td>https://i.ytimg.com/vi/K1oUbHbMjWw/hqdefault.jpg</td>\n",
              "    </tr>\n",
              "    <tr>\n",
              "      <th>2</th>\n",
              "      <td>Dépression : pendant un mois Louma filme son q...</td>\n",
              "      <td>https://www.youtube.com/watch?v=F7hhT_nvDpo</td>\n",
              "      <td>53000.0</td>\n",
              "      <td>1 day ago</td>\n",
              "      <td>https://i.ytimg.com/vi/F7hhT_nvDpo/hqdefault.jpg</td>\n",
              "    </tr>\n",
              "    <tr>\n",
              "      <th>3</th>\n",
              "      <td>Zelensky s’exprime sur les déclarations d’Emma...</td>\n",
              "      <td>https://www.youtube.com/shorts/qMTEMNIUC68</td>\n",
              "      <td>35000.0</td>\n",
              "      <td>2 days ago</td>\n",
              "      <td>https://i.ytimg.com/vi/qMTEMNIUC68/hqdefault.jpg</td>\n",
              "    </tr>\n",
              "    <tr>\n",
              "      <th>4</th>\n",
              "      <td>Un an après \"Je ne suis pas une salope, je sui...</td>\n",
              "      <td>https://www.youtube.com/watch?v=T5-b95ugQT0</td>\n",
              "      <td>26000.0</td>\n",
              "      <td>2 days ago</td>\n",
              "      <td>https://i.ytimg.com/vi/T5-b95ugQT0/hqdefault.jpg</td>\n",
              "    </tr>\n",
              "  </tbody>\n",
              "</table>\n",
              "</div>\n",
              "      <button class=\"colab-df-convert\" onclick=\"convertToInteractive('df-236ec0c6-f573-4d5b-a0db-889d494b53ff')\"\n",
              "              title=\"Convert this dataframe to an interactive table.\"\n",
              "              style=\"display:none;\">\n",
              "        \n",
              "  <svg xmlns=\"http://www.w3.org/2000/svg\" height=\"24px\"viewBox=\"0 0 24 24\"\n",
              "       width=\"24px\">\n",
              "    <path d=\"M0 0h24v24H0V0z\" fill=\"none\"/>\n",
              "    <path d=\"M18.56 5.44l.94 2.06.94-2.06 2.06-.94-2.06-.94-.94-2.06-.94 2.06-2.06.94zm-11 1L8.5 8.5l.94-2.06 2.06-.94-2.06-.94L8.5 2.5l-.94 2.06-2.06.94zm10 10l.94 2.06.94-2.06 2.06-.94-2.06-.94-.94-2.06-.94 2.06-2.06.94z\"/><path d=\"M17.41 7.96l-1.37-1.37c-.4-.4-.92-.59-1.43-.59-.52 0-1.04.2-1.43.59L10.3 9.45l-7.72 7.72c-.78.78-.78 2.05 0 2.83L4 21.41c.39.39.9.59 1.41.59.51 0 1.02-.2 1.41-.59l7.78-7.78 2.81-2.81c.8-.78.8-2.07 0-2.86zM5.41 20L4 18.59l7.72-7.72 1.47 1.35L5.41 20z\"/>\n",
              "  </svg>\n",
              "      </button>\n",
              "      \n",
              "  <style>\n",
              "    .colab-df-container {\n",
              "      display:flex;\n",
              "      flex-wrap:wrap;\n",
              "      gap: 12px;\n",
              "    }\n",
              "\n",
              "    .colab-df-convert {\n",
              "      background-color: #E8F0FE;\n",
              "      border: none;\n",
              "      border-radius: 50%;\n",
              "      cursor: pointer;\n",
              "      display: none;\n",
              "      fill: #1967D2;\n",
              "      height: 32px;\n",
              "      padding: 0 0 0 0;\n",
              "      width: 32px;\n",
              "    }\n",
              "\n",
              "    .colab-df-convert:hover {\n",
              "      background-color: #E2EBFA;\n",
              "      box-shadow: 0px 1px 2px rgba(60, 64, 67, 0.3), 0px 1px 3px 1px rgba(60, 64, 67, 0.15);\n",
              "      fill: #174EA6;\n",
              "    }\n",
              "\n",
              "    [theme=dark] .colab-df-convert {\n",
              "      background-color: #3B4455;\n",
              "      fill: #D2E3FC;\n",
              "    }\n",
              "\n",
              "    [theme=dark] .colab-df-convert:hover {\n",
              "      background-color: #434B5C;\n",
              "      box-shadow: 0px 1px 3px 1px rgba(0, 0, 0, 0.15);\n",
              "      filter: drop-shadow(0px 1px 2px rgba(0, 0, 0, 0.3));\n",
              "      fill: #FFFFFF;\n",
              "    }\n",
              "  </style>\n",
              "\n",
              "      <script>\n",
              "        const buttonEl =\n",
              "          document.querySelector('#df-236ec0c6-f573-4d5b-a0db-889d494b53ff button.colab-df-convert');\n",
              "        buttonEl.style.display =\n",
              "          google.colab.kernel.accessAllowed ? 'block' : 'none';\n",
              "\n",
              "        async function convertToInteractive(key) {\n",
              "          const element = document.querySelector('#df-236ec0c6-f573-4d5b-a0db-889d494b53ff');\n",
              "          const dataTable =\n",
              "            await google.colab.kernel.invokeFunction('convertToInteractive',\n",
              "                                                     [key], {});\n",
              "          if (!dataTable) return;\n",
              "\n",
              "          const docLinkHtml = 'Like what you see? Visit the ' +\n",
              "            '<a target=\"_blank\" href=https://colab.research.google.com/notebooks/data_table.ipynb>data table notebook</a>'\n",
              "            + ' to learn more about interactive tables.';\n",
              "          element.innerHTML = '';\n",
              "          dataTable['output_type'] = 'display_data';\n",
              "          await google.colab.output.renderOutput(dataTable, element);\n",
              "          const docLink = document.createElement('div');\n",
              "          docLink.innerHTML = docLinkHtml;\n",
              "          element.appendChild(docLink);\n",
              "        }\n",
              "      </script>\n",
              "    </div>\n",
              "  </div>\n",
              "  "
            ]
          },
          "metadata": {},
          "execution_count": 6
        }
      ]
    },
    {
      "cell_type": "markdown",
      "metadata": {
        "id": "HOabi19eli65"
      },
      "source": [
        "# **Scrape comments and likes from each 1-month ago video**"
      ]
    },
    {
      "cell_type": "markdown",
      "metadata": {
        "id": "7wOgnvwhxJL-"
      },
      "source": [
        "Load videos dataframe and filter on 1-month-ago videos"
      ]
    },
    {
      "cell_type": "code",
      "execution_count": 7,
      "metadata": {
        "id": "pcvL5dYXu6KE"
      },
      "outputs": [],
      "source": [
        "df_videos = pd.read_csv(f'{path_to_videos}/videos.csv')"
      ]
    },
    {
      "cell_type": "code",
      "execution_count": 8,
      "metadata": {
        "id": "2_uTvUeoljyw"
      },
      "outputs": [],
      "source": [
        "df_videos = df_videos.loc[df_videos['published'] == '1 month ago']"
      ]
    },
    {
      "cell_type": "code",
      "source": [
        "df_videos.shape"
      ],
      "metadata": {
        "colab": {
          "base_uri": "https://localhost:8080/"
        },
        "id": "3AC_GXn1AJ1h",
        "outputId": "53181664-7425-4c34-dc1b-d57ac841be7b"
      },
      "execution_count": 9,
      "outputs": [
        {
          "output_type": "execute_result",
          "data": {
            "text/plain": [
              "(62, 5)"
            ]
          },
          "metadata": {},
          "execution_count": 9
        }
      ]
    },
    {
      "cell_type": "markdown",
      "metadata": {
        "id": "li4UDfSGsqdO"
      },
      "source": [
        "Define some utils functions"
      ]
    },
    {
      "cell_type": "code",
      "execution_count": 10,
      "metadata": {
        "id": "pTGEvN-u0Cij"
      },
      "outputs": [],
      "source": [
        "def clean_likes(likes):\n",
        "  '''function transform \"1.4K views\", \"1.8M views\" into \"1400\", \"1800000\" \n",
        "  '''\n",
        "  if 'K' in likes:\n",
        "    likes_pp = likes.replace('K', '')\n",
        "    likes_pp = float(likes_pp)*1000\n",
        "  elif 'M' in likes:\n",
        "    likes_pp = likes.replace('M', '')\n",
        "    likes_pp = float(likes_pp)*1000000\n",
        "  else:\n",
        "    likes_pp = float(likes)\n",
        "  return likes_pp\n",
        "\n",
        "def scrape_comments_from_video(url):\n",
        "    \"\"\"\n",
        "    Extracts the comments from the Youtube video given by the URL.\n",
        "    Args:\n",
        "        url (str): The URL to the Youtube video\n",
        "    Returns:\n",
        "        (pd.DataFrame) dataframe that gathers video comments\n",
        "    \"\"\"\n",
        "    sleep_time = 5\n",
        "    # Note: Download and replace argument with path to the driver executable.\n",
        "    # Simply download the executable and move it into the webdrivers folder.\n",
        "    driver = webdriver.Chrome('chromedriver',chrome_options=chrome_options)\n",
        "\n",
        "    # Navigates to the URL, maximizes the current window, and\n",
        "    # then suspends execution for (at least) 5 seconds (this\n",
        "    # gives time for the page to load).\n",
        "    driver.get(url)\n",
        "    driver.maximize_window()\n",
        "    sleep(sleep_time)\n",
        "    if 'shorts' in url:\n",
        "      comments_button = driver.find_element_by_xpath('/html/body/ytd-app/div[1]/ytd-page-manager/ytd-shorts/div[1]/ytd-reel-video-renderer[1]/div[2]/ytd-reel-player-overlay-renderer/div[2]/div[3]/ytd-button-renderer/a/tp-yt-paper-button/yt-icon')\n",
        "      driver.execute_script(\"arguments[0].click();\", comments_button)\n",
        "      sleep(sleep_time)\n",
        "    try:\n",
        "        # Extract the elements storing the video title and\n",
        "        # comment section.\n",
        "        if 'shorts' in url:\n",
        "          likes = driver.find_element_by_xpath('/html/body/ytd-app/div[1]/ytd-page-manager/ytd-shorts/div[1]/ytd-reel-video-renderer[1]/div[2]/ytd-reel-player-overlay-renderer/div[2]/div[2]/ytd-like-button-renderer/ytd-toggle-button-renderer[1]/a/tp-yt-paper-button/yt-formatted-string').text\n",
        "          title = driver.find_element_by_xpath('/html/body/ytd-app/div[1]/ytd-page-manager/ytd-shorts/div[1]/ytd-reel-video-renderer[1]/div[2]/ytd-reel-player-overlay-renderer/div[1]/ytd-reel-player-header-renderer/h2/yt-formatted-string').text\n",
        "        else:\n",
        "          title = driver.find_element_by_xpath('//*[@id=\"container\"]/h1/yt-formatted-string').text\n",
        "          likes = driver.find_element_by_xpath('/html/body/ytd-app/div[1]/ytd-page-manager/ytd-watch-flexy/div[5]/div[1]/div/div[8]/div[2]/ytd-video-primary-info-renderer/div/div/div[3]/div/ytd-menu-renderer/div[1]/ytd-toggle-button-renderer[1]/a/yt-formatted-string').text\n",
        "        likes = clean_likes(likes)\n",
        "        comment_section = driver.find_element_by_xpath('//*[@id=\"comments\"]')\n",
        "    except exceptions.NoSuchElementException:\n",
        "        # Note: Youtube may have changed their HTML layouts for\n",
        "        # videos, so raise an error for sanity sake in case the\n",
        "        # elements provided cannot be found anymore.\n",
        "        error = \"Error: Double check selector OR \"\n",
        "        error += \"element may not yet be on the screen at the time of the find operation\"\n",
        "        print(error)\n",
        "\n",
        "    # Scroll into view the comment section, then allow some time\n",
        "    # for everything to be loaded as necessary.\n",
        "    driver.execute_script(\"arguments[0].scrollIntoView();\", comment_section)\n",
        "    sleep(sleep_time)\n",
        "\n",
        "    # Scroll all the way down to the bottom in order to get all the\n",
        "    # elements loaded (since Youtube dynamically loads them).\n",
        "    last_height = driver.execute_script(\"return document.documentElement.scrollHeight\")\n",
        "\n",
        "    while True:\n",
        "        # Scroll down 'til \"next load\".\n",
        "        driver.execute_script(\"window.scrollTo(0, document.documentElement.scrollHeight);\")\n",
        "\n",
        "        # Wait to load everything thus far.\n",
        "        sleep(sleep_time)\n",
        "\n",
        "        # Calculate new scroll height and compare with last scroll height.\n",
        "        new_height = driver.execute_script(\"return document.documentElement.scrollHeight\")\n",
        "        if new_height == last_height:\n",
        "            break\n",
        "        last_height = new_height\n",
        "\n",
        "    # One last scroll just in case.\n",
        "    driver.execute_script(\"window.scrollTo(0, document.documentElement.scrollHeight);\")\n",
        "\n",
        "    try:\n",
        "        # Extract the elements storing the usernames and comments.\n",
        "        comment_elems = driver.find_elements_by_xpath('//*[@id=\"content-text\"]')\n",
        "    except exceptions.NoSuchElementException:\n",
        "        error = \"Error: Double check selector OR \"\n",
        "        error += \"element may not yet be on the screen at the time of the find operation\"\n",
        "        print(error)\n",
        "\n",
        "    df_comments = pd.DataFrame({'comment':[c.text for c in comment_elems],\n",
        "                                'link':[url]*len(comment_elems),\n",
        "                                'likes':[likes]*len(comment_elems)}\n",
        "                              )\n",
        "    return df_comments"
      ]
    },
    {
      "cell_type": "markdown",
      "metadata": {
        "id": "tsV77i7ftGZj"
      },
      "source": [
        "Launch comments scraping for each video in parallel"
      ]
    },
    {
      "cell_type": "code",
      "execution_count": null,
      "metadata": {
        "id": "vTupz2C3T1Uv"
      },
      "outputs": [],
      "source": [
        "comments=[]\n",
        "with warnings.catch_warnings():\n",
        "  warnings.simplefilter(\"ignore\")\n",
        "  with tqdm(total=len(df_videos['link']), desc='scrape comments on videos') as pbar:\n",
        "      with ThreadPoolExecutor(max_workers=4) as executor:\n",
        "          compute_futures = [executor.submit(scrape_comments_from_video, url) \\\n",
        "                              for url in df_videos['link']]\n",
        "          for future in as_completed(compute_futures):\n",
        "              comments.append(future.result())\n",
        "              pbar.update(1)"
      ]
    },
    {
      "cell_type": "markdown",
      "metadata": {
        "id": "x3uOvXfLtO98"
      },
      "source": [
        "Concatenate each video comments dataframe to get a whole comments dataframe"
      ]
    },
    {
      "cell_type": "code",
      "execution_count": null,
      "metadata": {
        "id": "aZL10WHUVFrs"
      },
      "outputs": [],
      "source": [
        "df_comments = pd.concat(comments, axis=0)"
      ]
    },
    {
      "cell_type": "markdown",
      "metadata": {
        "id": "O09WaPvntYr4"
      },
      "source": [
        "Save the videos comments dataframe"
      ]
    },
    {
      "cell_type": "code",
      "execution_count": null,
      "metadata": {
        "id": "Sf2EeZbKReSl"
      },
      "outputs": [],
      "source": [
        "df_comments.to_csv(f'{path_to_videos}/comments.csv', index=False)"
      ]
    },
    {
      "cell_type": "code",
      "source": [
        "df_comments['link'].value_counts() # one video seems to not have any comments"
      ],
      "metadata": {
        "colab": {
          "base_uri": "https://localhost:8080/"
        },
        "id": "QgQ-xTwVAmlk",
        "outputId": "52bdbdf1-839a-4bc5-ba92-d6206c993f90"
      },
      "execution_count": 16,
      "outputs": [
        {
          "output_type": "execute_result",
          "data": {
            "text/plain": [
              "https://www.youtube.com/watch?v=Ik6Xl9CLQFY    745\n",
              "https://www.youtube.com/watch?v=y5IBXayQtk4    542\n",
              "https://www.youtube.com/watch?v=daAJ4LgLW1k    376\n",
              "https://www.youtube.com/watch?v=mKHBNhbA4yg    275\n",
              "https://www.youtube.com/watch?v=oq1WKm7q3Lk    170\n",
              "                                              ... \n",
              "https://www.youtube.com/shorts/UJk1h90UisU       9\n",
              "https://www.youtube.com/shorts/7U6zEvI42gA       9\n",
              "https://www.youtube.com/shorts/JrP3XbC25J4       8\n",
              "https://www.youtube.com/shorts/fK6aW_U0E4M       7\n",
              "https://www.youtube.com/shorts/-hZtpDwkoo0       6\n",
              "Name: link, Length: 61, dtype: int64"
            ]
          },
          "metadata": {},
          "execution_count": 16
        }
      ]
    },
    {
      "cell_type": "markdown",
      "metadata": {
        "id": "WttQ3TqIzrtB"
      },
      "source": [
        "## **Download 1-month-ago videos**"
      ]
    },
    {
      "cell_type": "markdown",
      "metadata": {
        "id": "MZtsNIgktisS"
      },
      "source": [
        "Load videos dataframe and filter on 1-month-ago videos"
      ]
    },
    {
      "cell_type": "code",
      "execution_count": null,
      "metadata": {
        "id": "YGHUs2Xn0MIA"
      },
      "outputs": [],
      "source": [
        "df_videos = pd.read_csv(f'{path_to_videos}/videos.csv')\n",
        "df_videos = df_videos.loc[df_videos['published'] == '1 month ago']"
      ]
    },
    {
      "cell_type": "code",
      "execution_count": null,
      "metadata": {
        "id": "Zne2o1NkzyAM"
      },
      "outputs": [],
      "source": [
        "for video_url in df_videos['link']:\n",
        "  video_hash = get_video_hash(video_url)\n",
        "  os.system(f\"youtube-dl https://youtube.com/watch?v={video_hash} -o '{path_to_videos}/videos/{video_hash}.%(ext)s'\")"
      ]
    },
    {
      "cell_type": "code",
      "execution_count": null,
      "metadata": {
        "id": "MqzMAUMTwTLg"
      },
      "outputs": [],
      "source": [
        ""
      ]
    }
  ],
  "metadata": {
    "colab": {
      "collapsed_sections": [],
      "name": "Copie de youtube_scraper.ipynb",
      "provenance": []
    },
    "kernelspec": {
      "display_name": "Python 3",
      "name": "python3"
    },
    "language_info": {
      "name": "python"
    }
  },
  "nbformat": 4,
  "nbformat_minor": 0
}